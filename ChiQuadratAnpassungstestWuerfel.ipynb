{
 "cells": [
  {
   "cell_type": "code",
   "execution_count": 1,
   "id": "ec969f35-c131-418f-af5d-e4fad338b4c1",
   "metadata": {},
   "outputs": [
    {
     "name": "stdout",
     "output_type": "stream",
     "text": [
      "Beobachteter Chi-Quadrat-Wert: 3.000\n",
      "Geschätzter p-Wert: 0.7361\n",
      "Kein Einwand gegen die Hypothese der Fairness auf dem Niveau 0.05.\n"
     ]
    }
   ],
   "source": [
    "import numpy as np\n",
    "\n",
    "# Parameter\n",
    "n = 24  # Anzahl der Würfe\n",
    "observed_counts = [4, 3, 3, 4, 7, 3]  # Beobachtete Trefferanzahlen\n",
    "expected_probabilities = [1/6] * 6  # Hypothese der Fairness: alle Zahlen sind gleich wahrscheinlich\n",
    "M = 10000  # Anzahl der Simulationen\n",
    "alpha = 0.05  # Signifikanzniveau\n",
    "\n",
    "# Berechnung des beobachteten Chi-Quadrat-Wertes\n",
    "expected_counts = np.array(expected_probabilities) * n\n",
    "chi_squared_observed = sum((obs - exp) ** 2 / exp \n",
    "                           for obs, exp in zip(observed_counts, expected_counts))\n",
    "\n",
    "# Monte-Carlo-Simulation\n",
    "counter = 0\n",
    "for _ in range(M):\n",
    "    simulated_counts = np.random.multinomial(n, expected_probabilities)\n",
    "    chi_squared_simulated = sum((sim - exp) ** 2 / exp\n",
    "                                for sim, exp in zip(simulated_counts, expected_counts))\n",
    "    if chi_squared_simulated >= chi_squared_observed:\n",
    "        counter += 1\n",
    "\n",
    "# Schätzung des p-Werts\n",
    "p_value = counter / M\n",
    "\n",
    "# Ergebnis\n",
    "print(f\"Beobachteter Chi-Quadrat-Wert: {chi_squared_observed:.3f}\")\n",
    "print(f\"Geschätzter p-Wert: {p_value:.4f}\")\n",
    "if p_value <= alpha:\n",
    "    print(f\"Die Hypothese der Fairness wird auf dem Niveau {alpha} abgelehnt.\")\n",
    "else:\n",
    "    print(f\"Kein Einwand gegen die Hypothese der Fairness auf dem Niveau {alpha}.\")\n"
   ]
  },
  {
   "cell_type": "code",
   "execution_count": null,
   "id": "390b093b-5ff3-47f8-8d73-0dd926bd9b72",
   "metadata": {},
   "outputs": [],
   "source": []
  }
 ],
 "metadata": {
  "kernelspec": {
   "display_name": "Python 3 (ipykernel)",
   "language": "python",
   "name": "python3"
  },
  "language_info": {
   "codemirror_mode": {
    "name": "ipython",
    "version": 3
   },
   "file_extension": ".py",
   "mimetype": "text/x-python",
   "name": "python",
   "nbconvert_exporter": "python",
   "pygments_lexer": "ipython3",
   "version": "3.9.7"
  }
 },
 "nbformat": 4,
 "nbformat_minor": 5
}
