{
 "cells": [
  {
   "cell_type": "code",
   "execution_count": null,
   "id": "d780d613-bc79-4104-897f-d10849691d3a",
   "metadata": {},
   "outputs": [],
   "source": [
    "import numpy as np\n",
    "from scipy.stats import chi2, chi2_contingency\n",
    "import matplotlib.pyplot as plt\n",
    "\n",
    "# Beobachtete Häufigkeiten (ändern für andere Werte)\n",
    "observed = np.array([\n",
    "    [32, 23],  # Beispielwerte\n",
    "    [7, 11]\n",
    "])\n",
    "\n",
    "# Chi-Quadrat-Test durchführen\n",
    "chi2_stat, p_value, dof, expected = chi2_contingency(observed,correction=True)\n",
    "\n",
    "# Ergebnisse ausgeben\n",
    "print(\"Chi-Quadrat-Statistik:\", round(chi2_stat, 3))\n",
    "print(\"p-Wert:\", round(p_value, 4))\n",
    "print(\"Freiheitsgrade:\", dof)\n",
    "print(\"Erwartete Häufigkeiten:\\n\", expected)\n",
    "\n",
    "# Plot der Chi-Quadrat-Dichte\n",
    "x = np.linspace(0, 20, 1000)  # Wertebereich für die x-Achse\n",
    "chi2_pdf = chi2.pdf(x, dof)   # Chi-Quadrat-Dichtefunktion für die gegebenen Freiheitsgrade\n",
    "\n",
    "# Erstellen der Grafik\n",
    "plt.figure(figsize=(8, 4))\n",
    "plt.plot(x, chi2_pdf, label=f'Chi-Quadrat-Dichte (df={dof})', color='blue')\n",
    "\n",
    "# Hervorheben der Fläche (p-Wert)\n",
    "x_fill = np.linspace(chi2_stat, 20, 1000)\n",
    "plt.fill_between(x_fill, chi2.pdf(x_fill, dof), color='red', alpha=0.5, label='p-Wert Fläche')\n",
    "\n",
    "# Markieren des Chi-Quadrat-Werts\n",
    "plt.axvline(x=chi2_stat, color='black', linestyle='--', label=f'Beobachteter $\\chi^2$: {round(chi2_stat, 2)}')\n",
    "\n",
    "# Achsenbeschriftungen und Legende\n",
    "plt.title('Chi-Quadrat-Dichte und p-Wert mit Yates-Korrektur', fontsize=16)\n",
    "plt.xlabel('$\\chi^2$-Wert', fontsize=14)\n",
    "plt.ylabel('Dichte', fontsize=14)\n",
    "plt.legend(fontsize=12)\n",
    "plt.grid(alpha=0.3)\n",
    "plt.show()"
   ]
  }
 ],
 "metadata": {
  "kernelspec": {
   "display_name": "Python 3 (ipykernel)",
   "language": "python",
   "name": "python3"
  },
  "language_info": {
   "codemirror_mode": {
    "name": "ipython",
    "version": 3
   },
   "file_extension": ".py",
   "mimetype": "text/x-python",
   "name": "python",
   "nbconvert_exporter": "python",
   "pygments_lexer": "ipython3",
   "version": "3.9.7"
  }
 },
 "nbformat": 4,
 "nbformat_minor": 5
}
