{
 "cells": [
  {
   "cell_type": "code",
   "execution_count": 1,
   "id": "a6363552-0665-4aa7-9416-37afd32b6c1c",
   "metadata": {},
   "outputs": [
    {
     "name": "stdout",
     "output_type": "stream",
     "text": [
      "Ohne Yates-Korrektur:\n",
      "Chi-Quadrat-Wert: 2.029, p-Wert: 0.1544, Freiheitsgrade: 1\n",
      "Erwartete Häufigkeiten:\n",
      "[[29.38356164 25.61643836]\n",
      " [ 9.61643836  8.38356164]]\n",
      "\n",
      "Mit Yates-Korrektur:\n",
      "Chi-Quadrat-Wert: 1.327, p-Wert: 0.2493, Freiheitsgrade: 1\n",
      "Erwartete Häufigkeiten:\n",
      "[[29.38356164 25.61643836]\n",
      " [ 9.61643836  8.38356164]]\n"
     ]
    }
   ],
   "source": [
    "import numpy as np\n",
    "from scipy.stats import chi2_contingency\n",
    "\n",
    "# Beobachtete Häufigkeiten\n",
    "observed = np.array([[32, 23],\n",
    "                     [7, 11]])\n",
    "\n",
    "# Chi-Quadrat-Test OHNE Yates-Korrektur\n",
    "chi2, p, dof, expected = chi2_contingency(observed, correction=False)\n",
    "print(\"Ohne Yates-Korrektur:\")\n",
    "print(f\"Chi-Quadrat-Wert: {chi2:.3f}, p-Wert: {p:.4f}, Freiheitsgrade: {dof}\")\n",
    "print(f\"Erwartete Häufigkeiten:\\n{expected}\")\n",
    "\n",
    "# Chi-Quadrat-Test MIT Yates-Korrektur\n",
    "chi2_yates, p_yates, dof_yates, expected_yates = chi2_contingency(observed, correction=True)\n",
    "print(\"\\nMit Yates-Korrektur:\")\n",
    "print(f\"Chi-Quadrat-Wert: {chi2_yates:.3f}, p-Wert: {p_yates:.4f}, Freiheitsgrade: {dof_yates}\")\n",
    "print(f\"Erwartete Häufigkeiten:\\n{expected_yates}\")"
   ]
  },
  {
   "cell_type": "code",
   "execution_count": null,
   "id": "b3113b0a-d255-4c8b-89ca-89f0837eb343",
   "metadata": {},
   "outputs": [],
   "source": []
  }
 ],
 "metadata": {
  "kernelspec": {
   "display_name": "Python 3 (ipykernel)",
   "language": "python",
   "name": "python3"
  },
  "language_info": {
   "codemirror_mode": {
    "name": "ipython",
    "version": 3
   },
   "file_extension": ".py",
   "mimetype": "text/x-python",
   "name": "python",
   "nbconvert_exporter": "python",
   "pygments_lexer": "ipython3",
   "version": "3.9.7"
  }
 },
 "nbformat": 4,
 "nbformat_minor": 5
}
