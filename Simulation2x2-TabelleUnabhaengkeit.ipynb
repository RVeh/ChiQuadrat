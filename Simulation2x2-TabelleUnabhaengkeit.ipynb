{
 "cells": [
  {
   "cell_type": "code",
   "execution_count": 7,
   "id": "f9252fc9-8140-463c-8397-82fa53f30293",
   "metadata": {},
   "outputs": [
    {
     "name": "stdout",
     "output_type": "stream",
     "text": [
      "Beobachteter Chi-Quadrat-Wert: 2.029\n",
      "p-Wert (Simulation (100000 Simulationen): 0.1821\n"
     ]
    },
    {
     "data": {
      "image/png": "[encoded data removed]",
      "text/plain": [
       "<Figure size 432x288 with 1 Axes>"
      ]
     },
     "metadata": {
      "needs_background": "light"
     },
     "output_type": "display_data"
    }
   ],
   "source": [
    "import numpy as np\n",
    "import scipy.stats as stats\n",
    "import matplotlib.pyplot as plt\n",
    "\n",
    "# Beobachtete Tabelle\n",
    "observed = np.array([[32, 23],\n",
    "                     [7, 11]])\n",
    "\n",
    "# Berechne die Randwerte\n",
    "row_sums = observed.sum(axis=1)  # Zeilensummen\n",
    "col_sums = observed.sum(axis=0)  # Spaltensummen\n",
    "total = observed.sum()           # Gesamtsumme\n",
    "\n",
    "# Erwartete Häufigkeiten berechnen\n",
    "expected = np.outer(row_sums, col_sums) / total\n",
    "\n",
    "# Funktion zum Chi-Quadrat-Wert\n",
    "def chi_squared_stat(observed, expected):\n",
    "    return np.sum((observed - expected)**2 / expected)\n",
    "\n",
    "# Monte-Carlo-Simulation\n",
    "def simulate_chi_squared(observed, n_simulations=10000):\n",
    "    row_sums = observed.sum(axis=1)\n",
    "    col_sums = observed.sum(axis=0)\n",
    "    total = observed.sum()\n",
    "    \n",
    "    chi_squared_values = []\n",
    "    \n",
    "    for _ in range(n_simulations):\n",
    "        # Erzeuge eine zufällige Tabelle mit denselben Randwerten\n",
    "        # (Hypergeometrische Verteilung)\n",
    "        simulated_table = np.zeros((2, 2))\n",
    "        simulated_table[0, 0] = np.random.hypergeometric(\n",
    "            col_sums[0],  # \"Erfolg\" außerhalb der ersten Spalte\n",
    "            col_sums[1],  # \"Erfolg\" außerhalb der zweiten Spalte\n",
    "            row_sums[0]   # Stichprobenumfang für die erste Zeile\n",
    "        )\n",
    "        simulated_table[0, 1] = row_sums[0] - simulated_table[0, 0]\n",
    "        simulated_table[1, 0] = col_sums[0] - simulated_table[0, 0]\n",
    "        simulated_table[1, 1] = col_sums[1] - simulated_table[0, 1]\n",
    "        \n",
    "        # Erwartete Werte berechnen\n",
    "        simulated_expected = np.outer(row_sums, col_sums) / total\n",
    "        \n",
    "        # Chi-Quadrat-Wert berechnen\n",
    "        chi_squared_values.append(chi_squared_stat(simulated_table, simulated_expected))\n",
    "    \n",
    "    return chi_squared_values\n",
    "\n",
    "# Simulation durchführen\n",
    "n_simulations = 100000\n",
    "simulated_chi_squared = simulate_chi_squared(observed, n_simulations)\n",
    "\n",
    "# Beobachteten Chi-Quadrat-Wert berechnen\n",
    "observed_chi_squared = chi_squared_stat(observed, expected)\n",
    "\n",
    "# p-Wert aus der Simulation berechnen\n",
    "p_value_simulation = np.mean(np.array(simulated_chi_squared) >= observed_chi_squared)\n",
    "\n",
    "# Ergebnisse\n",
    "\n",
    "print(f\"Beobachteter Chi-Quadrat-Wert: {observed_chi_squared:.3f}\")\n",
    "print(f\"p-Wert (Simulation ({n_simulations} Simulationen): {p_value_simulation:.4f}\")\n",
    "\n",
    "# Visualisierung der Chi-Quadrat-Verteilung aus der Simulation\n",
    "plt.hist(simulated_chi_squared, bins=10, color=\"skyblue\", edgecolor=\"black\",density=True, alpha=0.7)\n",
    "plt.axvline(observed_chi_squared, color=\"red\", linestyle=\"--\", label=f\"Beobachteter Wert: {observed_chi_squared:.3f}\")\n",
    "plt.title(\"Chi-Quadrat-Verteilung (Simulation)\")\n",
    "plt.xlabel(\"Chi-Quadrat-Wert\")\n",
    "plt.ylabel(\"Dichte\")\n",
    "plt.legend()\n",
    "plt.show()"
   ]
  },
  {
   "cell_type": "code",
   "execution_count": null,
   "id": "d0c58a56-2bb1-4545-9b2f-93662fc9a42f",
   "metadata": {},
   "outputs": [],
   "source": []
  }
 ],
 "metadata": {
  "kernelspec": {
   "display_name": "Python 3 (ipykernel)",
   "language": "python",
   "name": "python3"
  },
  "language_info": {
   "codemirror_mode": {
    "name": "ipython",
    "version": 3
   },
   "file_extension": ".py",
   "mimetype": "text/x-python",
   "name": "python",
   "nbconvert_exporter": "python",
   "pygments_lexer": "ipython3",
   "version": "3.9.7"
  }
 },
 "nbformat": 4,
 "nbformat_minor": 5
}
